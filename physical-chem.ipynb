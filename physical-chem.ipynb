{
 "cells": [
  {
   "cell_type": "code",
   "execution_count": 44,
   "metadata": {},
   "outputs": [
    {
     "name": "stdout",
     "output_type": "stream",
     "text": [
      "Final air pressure:  150.0  mmHg\n",
      "Final air and water pressure:  159.0  mmHg\n"
     ]
    }
   ],
   "source": [
    "# Title: Physical Chemistry\n",
    "\n",
    "# Air\n",
    "V1 = 2.0 #L\n",
    "p1 = 75 # mmHg\n",
    "\n",
    "# Saturation pressure at 50C\n",
    "svp = 9 # mmHg\n",
    "\n",
    "# Final compressed volume\n",
    "Vf = 1.0 #L\n",
    "\n",
    "# Final pressure at Vf and 50C for air\n",
    "pf = p1 * V1 / Vf\n",
    "print('Final air pressure: ', pf, ' mmHg')\n",
    "\n",
    "# Final pressure from air and water\n",
    "pf = pf + svp\n",
    "print('Final air and water pressure: ', pf, ' mmHg')"
   ]
  },
  {
   "cell_type": "code",
   "execution_count": 50,
   "metadata": {},
   "outputs": [
    {
     "name": "stdout",
     "output_type": "stream",
     "text": [
      "Air pressure: 150.00 mmHg\n",
      "Water pressure: 12.00 mmHg\n",
      "Water condensed: 2.68 g\n",
      "Water left: 8.05 g\n",
      "Final pressure: 159.00 mmHg\n"
     ]
    }
   ],
   "source": [
    "# Title: Physical Chemistry\n",
    "\n",
    "# Constants\n",
    "mmHg = 133.3223684 #mm Hg to Pa\n",
    "R = 8.31446261815324\n",
    "ctoK = 273.15\n",
    "\n",
    "\n",
    "# Constant temperature\n",
    "T1 = T2 = 50 + ctoK # K\n",
    "\n",
    "# Air\n",
    "V1 = 2.0 #L\n",
    "p1 = 75 * mmHg # Pa\n",
    "air_molar_mass = 28.9647 # g/mol\n",
    "moles_air = p1 * V1 / (R * T1)\n",
    "\n",
    "# Water\n",
    "V2 = 2.0 #L\n",
    "p2 = 6 * mmHg # Pa\n",
    "water_molar_mass = 18.01528 # g/mol\n",
    "moles_water = p2 * V2 / (R * T1)\n",
    "\n",
    "# Saturation pressure\n",
    "p_sat = 9 * mmHg # Pa\n",
    "\n",
    "# Final compressed volume\n",
    "Vf = 1.0 #L\n",
    "\n",
    "# Pressure from air\n",
    "p3 = (moles_air * R * T1) / Vf\n",
    "print('Air pressure: {:.2f} mmHg'.format(p3 / mmHg))\n",
    "\n",
    "# Pressure from water\n",
    "p4 = (moles_water * R * T1) / Vf\n",
    "print('Water pressure: {:.2f} mmHg'.format(p4 / mmHg))\n",
    "\n",
    "# Water condensation\n",
    "moles_water_condensed = (p4 - p_sat) * Vf / (R * T1)\n",
    "print('Water condensed: {:.2f} g'.format(moles_water_condensed * water_molar_mass))\n",
    "\n",
    "moles_water_left = moles_water - moles_water_condensed\n",
    "print('Water left: {:.2f} g'.format(moles_water_left * water_molar_mass))\n",
    "\n",
    "# Pressure from water in gas form\n",
    "p5 = (moles_water_left * R * T1) / Vf\n",
    "\n",
    "# Final pressure\n",
    "print('Final pressure: {:.2f} mmHg'.format((p3 + p5) / mmHg))\n",
    "\n",
    "# Because water is condensed, the water presssure is capped at the saturation pressure"
   ]
  },
  {
   "cell_type": "code",
   "execution_count": 51,
   "metadata": {},
   "outputs": [
    {
     "data": {
      "text/plain": [
       "([<matplotlib.patches.Wedge at 0x7fafb89946d0>,\n",
       "  <matplotlib.patches.Wedge at 0x7fafb8994fa0>],\n",
       " [Text(-0.19457929283299225, 1.0826536375039864, 'Water'),\n",
       "  Text(0.19457922947964826, -1.082653648890127, 'Air')],\n",
       " [Text(-0.10613415972708666, 0.590538347729447, '5.7%'),\n",
       "  Text(0.10613412517071721, -0.5905383539400693, '94.3%')])"
      ]
     },
     "execution_count": 51,
     "metadata": {},
     "output_type": "execute_result"
    },
    {
     "data": {
      "image/png": "[encoded data removed]",
      "text/plain": [
       "<Figure size 432x288 with 1 Axes>"
      ]
     },
     "metadata": {},
     "output_type": "display_data"
    }
   ],
   "source": [
    "from matplotlib import pyplot as plt\n",
    "\n",
    "# Graph pie chart of water and air\n",
    "labels = 'Water', 'Air'\n",
    "moles = [moles_water_left, moles_air]\n",
    "\n",
    "fig1, ax1 = plt.subplots()\n",
    "ax1.pie(moles, labels=labels, autopct='%1.1f%%', shadow=True, startangle=90)"
   ]
  }
 ],
 "metadata": {
  "kernelspec": {
   "display_name": "base",
   "language": "python",
   "name": "python3"
  },
  "language_info": {
   "codemirror_mode": {
    "name": "ipython",
    "version": 3
   },
   "file_extension": ".py",
   "mimetype": "text/x-python",
   "name": "python",
   "nbconvert_exporter": "python",
   "pygments_lexer": "ipython3",
   "version": "3.8.13 | packaged by conda-forge | (default, Mar 25 2022, 06:06:49) \n[Clang 12.0.1 ]"
  },
  "orig_nbformat": 4,
  "vscode": {
   "interpreter": {
    "hash": "dcd4e63de117c0b84181a308f50538a6eb5015c1d1a860eb9ff44e33868510be"
   }
  }
 },
 "nbformat": 4,
 "nbformat_minor": 2
}
